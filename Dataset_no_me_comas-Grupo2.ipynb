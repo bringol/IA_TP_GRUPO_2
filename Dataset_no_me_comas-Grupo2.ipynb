{
  "cells": [
    {
      "cell_type": "markdown",
      "metadata": {
        "id": "F4R22rMMtXnf"
      },
      "source": [
        "# Dataset: Yellow Submarine\n",
        "----"
      ]
    },
    {
      "cell_type": "markdown",
      "metadata": {
        "id": "8zbtY8MXtXnh"
      },
      "source": [
        "Cada fila representa un hongo, cada columna contiene atributos de este.\n",
        "\n",
        "La columna *classes* indica si el hongo es venenoso o no.\n",
        "\n",
        "hongos | atributos\n",
        ":----:   | :----:\n",
        "8124     | 23\n"
      ]
    },
    {
      "cell_type": "markdown",
      "metadata": {
        "id": "_enlxsmytXni"
      },
      "source": [
        "# Variables\n",
        "\n",
        "Nombre   |  Posibles valores\n",
        ":------- |  :---\n",
        "cap-shape   | (bell, conical, convex, flat, knobbed, sunken)\n",
        "cap-surface | (fibrous, grooves, scaly, smooth)\n",
        "cap-color | (brown, buff, cinnamon, gray, green, pink, purple, red, white, yellow)\n",
        "bruises | (bruises, no)\n",
        "odor | (almond, anise, creosote, fishy, foul, musty, none, pungent, spicy)\n",
        "gill-attachment | (attached, descending, free, notched)\n",
        "gill-spacing | (close, crowded, distant)\n",
        "gill-size | (broad, narrow)\n",
        "gill-color | (black, brown, buff, chocolate, gray, green, orange, pink, purple, red, white, yellow)\n",
        "stalk-shape | (enlarging, tapering)\n",
        "stalk-root | (bulbous, club, cup, equal, rhizomorphs, rooted, missing)\n",
        "stalk-surface-above-ring | (fibrous, scaly, silky, smooth)\n",
        "stalk-surface-below-ring | (fibrous, scaly, silky, smooth)\n",
        "stalk-color-above-ring | (brown, buff, cinnamon, gray, orange, pink, red, white, yellow)\n",
        "stalk-color-below-ring | (brown, buff, cinnamon, gray, orange, pink, red, white, yellow)\n",
        "veil-type | (partial, universal)\n",
        "veil-color | (brown, orange, white, yellow)\n",
        "ring-number | (none, one, two)\n",
        "ring-type | (cobwebby, evanescent, flaring, large, none, pendant, sheathing, zone)\n",
        "spore-print-color | (black, brown, buff, chocolate, green, orange, purple, white, yellow)\n",
        "population | (abundant, clustered, numerous, scattered ,several, solitary)\n",
        "habitat | (grasses, leaves, meadows, paths, urban, waste, woods)\n",
        "classes   |  (edible, poisonous)"
      ]
    },
    {
      "cell_type": "code",
      "execution_count": 4,
      "metadata": {
        "id": "2-v_vM09tXni"
      },
      "outputs": [],
      "source": [
        "import pandas as pd\n",
        "from sklearn.preprocessing import OneHotEncoder\n",
        "from sklearn.model_selection import train_test_split\n",
        "\n",
        "# Cargar los datos\n",
        "data = pd.read_csv('Yellow_Submarine.csv')"
      ]
    },
    {
      "cell_type": "code",
      "source": [
        "# Verificar valores faltantes\n",
        "missing_values = data.isnull().sum()\n",
        "print(\"Valores faltantes en cada columna:\")\n",
        "print(missing_values)"
      ],
      "metadata": {
        "colab": {
          "base_uri": "https://localhost:8080/"
        },
        "id": "ie-imvQ6vISD",
        "outputId": "baac186f-3553-43e4-d604-eb210e7c22c8"
      },
      "execution_count": 5,
      "outputs": [
        {
          "output_type": "stream",
          "name": "stdout",
          "text": [
            "Valores faltantes en cada columna:\n",
            "class                       0\n",
            "cap-shape                   0\n",
            "cap-surface                 0\n",
            "cap-color                   0\n",
            "bruises                     0\n",
            "odor                        0\n",
            "gill-attachment             0\n",
            "gill-spacing                0\n",
            "gill-size                   0\n",
            "gill-color                  0\n",
            "stalk-shape                 0\n",
            "stalk-root                  0\n",
            "stalk-surface-above-ring    0\n",
            "stalk-surface-below-ring    0\n",
            "stalk-color-above-ring      0\n",
            "stalk-color-below-ring      0\n",
            "veil-type                   0\n",
            "veil-color                  0\n",
            "ring-number                 0\n",
            "ring-type                   0\n",
            "spore-print-color           0\n",
            "population                  0\n",
            "habitat                     0\n",
            "dtype: int64\n"
          ]
        }
      ]
    },
    {
      "cell_type": "code",
      "source": [
        "  # Verificar si hay casos en los que \"ring-number\" tenga \"none\"\n",
        "none_ring_number = data[data['ring-number'] == 'none']\n",
        "\n",
        "# Mostrar los resultados\n",
        "print(none_ring_number)"
      ],
      "metadata": {
        "colab": {
          "base_uri": "https://localhost:8080/"
        },
        "id": "s5ziuS-OgziK",
        "outputId": "712bbcc6-ec8f-456a-bb5f-9fa9f48ca326"
      },
      "execution_count": 7,
      "outputs": [
        {
          "output_type": "stream",
          "name": "stdout",
          "text": [
            "        class cap-shape cap-surface cap-color bruises   odor gill-attachment  \\\n",
            "6415  poisson    convex       scaly       red      no  musty            free   \n",
            "6668  poisson   knobbed       scaly  cinnamon      no  musty        attached   \n",
            "6855  poisson   knobbed       scaly     brown      no  musty            free   \n",
            "6945  poisson      flat       scaly       red      no  musty        attached   \n",
            "6991  poisson   knobbed       scaly       red      no  musty            free   \n",
            "7034  poisson   knobbed       scaly  cinnamon      no  musty            free   \n",
            "7065  poisson    convex       scaly     brown      no  musty        attached   \n",
            "7091  poisson      flat       scaly     brown      no  musty            free   \n",
            "7100  poisson    convex       scaly  cinnamon      no  musty        attached   \n",
            "7111  poisson   knobbed       scaly     brown      no  musty        attached   \n",
            "7146  poisson      flat       scaly  cinnamon      no  musty            free   \n",
            "7166  poisson      flat       scaly     brown      no  musty            free   \n",
            "7230  poisson      flat       scaly       red      no  musty            free   \n",
            "7265  poisson      flat       scaly     brown      no  musty        attached   \n",
            "7285  poisson    convex       scaly       red      no  musty        attached   \n",
            "7323  poisson    convex       scaly     brown      no  musty            free   \n",
            "7336  poisson      flat       scaly       red      no  musty            free   \n",
            "7342  poisson   knobbed       scaly  cinnamon      no  musty            free   \n",
            "7368  poisson    convex       scaly  cinnamon      no  musty        attached   \n",
            "7386  poisson   knobbed       scaly     brown      no  musty            free   \n",
            "7469  poisson    convex       scaly       red      no  musty        attached   \n",
            "7480  poisson   knobbed       scaly     brown      no  musty        attached   \n",
            "7485  poisson      flat       scaly       red      no  musty        attached   \n",
            "7536  poisson      flat       scaly  cinnamon      no  musty            free   \n",
            "7635  poisson    convex       scaly       red      no  musty            free   \n",
            "7709  poisson   knobbed       scaly       red      no  musty        attached   \n",
            "7714  poisson    convex       scaly  cinnamon      no  musty            free   \n",
            "7727  poisson    convex       scaly     brown      no  musty        attached   \n",
            "7801  poisson      flat       scaly  cinnamon      no  musty        attached   \n",
            "7805  poisson    convex       scaly     brown      no  musty            free   \n",
            "7820  poisson   knobbed       scaly       red      no  musty            free   \n",
            "7910  poisson      flat       scaly     brown      no  musty        attached   \n",
            "7941  poisson   knobbed       scaly       red      no  musty        attached   \n",
            "7981  poisson   knobbed       scaly  cinnamon      no  musty        attached   \n",
            "8095  poisson    convex       scaly  cinnamon      no  musty            free   \n",
            "8114  poisson      flat       scaly  cinnamon      no  musty        attached   \n",
            "\n",
            "     gill-spacing gill-size gill-color  ... stalk-surface-below-ring  \\\n",
            "6415        close     broad      white  ...                    scaly   \n",
            "6668        close     broad      white  ...                    scaly   \n",
            "6855        close     broad      white  ...                    scaly   \n",
            "6945        close     broad      white  ...                    scaly   \n",
            "6991        close     broad     yellow  ...                    scaly   \n",
            "7034        close     broad      white  ...                    scaly   \n",
            "7065        close     broad      white  ...                    scaly   \n",
            "7091        close     broad      white  ...                    scaly   \n",
            "7100        close     broad     yellow  ...                    scaly   \n",
            "7111        close     broad      white  ...                    scaly   \n",
            "7146        close     broad      white  ...                    scaly   \n",
            "7166        close     broad     yellow  ...                    scaly   \n",
            "7230        close     broad     yellow  ...                    scaly   \n",
            "7265        close     broad      white  ...                    scaly   \n",
            "7285        close     broad     yellow  ...                    scaly   \n",
            "7323        close     broad     yellow  ...                    scaly   \n",
            "7336        close     broad      white  ...                    scaly   \n",
            "7342        close     broad     yellow  ...                    scaly   \n",
            "7368        close     broad      white  ...                    scaly   \n",
            "7386        close     broad     yellow  ...                    scaly   \n",
            "7469        close     broad      white  ...                    scaly   \n",
            "7480        close     broad     yellow  ...                    scaly   \n",
            "7485        close     broad     yellow  ...                    scaly   \n",
            "7536        close     broad     yellow  ...                    scaly   \n",
            "7635        close     broad     yellow  ...                    scaly   \n",
            "7709        close     broad     yellow  ...                    scaly   \n",
            "7714        close     broad      white  ...                    scaly   \n",
            "7727        close     broad     yellow  ...                    scaly   \n",
            "7801        close     broad      white  ...                    scaly   \n",
            "7805        close     broad      white  ...                    scaly   \n",
            "7820        close     broad      white  ...                    scaly   \n",
            "7910        close     broad     yellow  ...                    scaly   \n",
            "7941        close     broad      white  ...                    scaly   \n",
            "7981        close     broad     yellow  ...                    scaly   \n",
            "8095        close     broad     yellow  ...                    scaly   \n",
            "8114        close     broad     yellow  ...                    scaly   \n",
            "\n",
            "     stalk-color-above-ring stalk-color-below-ring veil-type veil-color  \\\n",
            "6415               cinnamon               cinnamon   partial      white   \n",
            "6668               cinnamon               cinnamon   partial      white   \n",
            "6855               cinnamon               cinnamon   partial      white   \n",
            "6945               cinnamon               cinnamon   partial      white   \n",
            "6991               cinnamon               cinnamon   partial      white   \n",
            "7034               cinnamon               cinnamon   partial      white   \n",
            "7065               cinnamon               cinnamon   partial      white   \n",
            "7091               cinnamon               cinnamon   partial      white   \n",
            "7100               cinnamon               cinnamon   partial      white   \n",
            "7111               cinnamon               cinnamon   partial      white   \n",
            "7146               cinnamon               cinnamon   partial      white   \n",
            "7166               cinnamon               cinnamon   partial      white   \n",
            "7230               cinnamon               cinnamon   partial      white   \n",
            "7265               cinnamon               cinnamon   partial      white   \n",
            "7285               cinnamon               cinnamon   partial      white   \n",
            "7323               cinnamon               cinnamon   partial      white   \n",
            "7336               cinnamon               cinnamon   partial      white   \n",
            "7342               cinnamon               cinnamon   partial      white   \n",
            "7368               cinnamon               cinnamon   partial      white   \n",
            "7386               cinnamon               cinnamon   partial      white   \n",
            "7469               cinnamon               cinnamon   partial      white   \n",
            "7480               cinnamon               cinnamon   partial      white   \n",
            "7485               cinnamon               cinnamon   partial      white   \n",
            "7536               cinnamon               cinnamon   partial      white   \n",
            "7635               cinnamon               cinnamon   partial      white   \n",
            "7709               cinnamon               cinnamon   partial      white   \n",
            "7714               cinnamon               cinnamon   partial      white   \n",
            "7727               cinnamon               cinnamon   partial      white   \n",
            "7801               cinnamon               cinnamon   partial      white   \n",
            "7805               cinnamon               cinnamon   partial      white   \n",
            "7820               cinnamon               cinnamon   partial      white   \n",
            "7910               cinnamon               cinnamon   partial      white   \n",
            "7941               cinnamon               cinnamon   partial      white   \n",
            "7981               cinnamon               cinnamon   partial      white   \n",
            "8095               cinnamon               cinnamon   partial      white   \n",
            "8114               cinnamon               cinnamon   partial      white   \n",
            "\n",
            "     ring-number ring-type spore-print-color population habitat  \n",
            "6415        none      none             white  clustered   woods  \n",
            "6668        none      none             white  clustered   woods  \n",
            "6855        none      none             white  clustered   woods  \n",
            "6945        none      none             white  clustered   woods  \n",
            "6991        none      none             white  clustered   woods  \n",
            "7034        none      none             white  clustered   woods  \n",
            "7065        none      none             white  clustered   woods  \n",
            "7091        none      none             white  clustered   woods  \n",
            "7100        none      none             white  clustered   woods  \n",
            "7111        none      none             white  clustered   woods  \n",
            "7146        none      none             white  clustered   woods  \n",
            "7166        none      none             white  clustered   woods  \n",
            "7230        none      none             white  clustered   woods  \n",
            "7265        none      none             white  clustered   woods  \n",
            "7285        none      none             white  clustered   woods  \n",
            "7323        none      none             white  clustered   woods  \n",
            "7336        none      none             white  clustered   woods  \n",
            "7342        none      none             white  clustered   woods  \n",
            "7368        none      none             white  clustered   woods  \n",
            "7386        none      none             white  clustered   woods  \n",
            "7469        none      none             white  clustered   woods  \n",
            "7480        none      none             white  clustered   woods  \n",
            "7485        none      none             white  clustered   woods  \n",
            "7536        none      none             white  clustered   woods  \n",
            "7635        none      none             white  clustered   woods  \n",
            "7709        none      none             white  clustered   woods  \n",
            "7714        none      none             white  clustered   woods  \n",
            "7727        none      none             white  clustered   woods  \n",
            "7801        none      none             white  clustered   woods  \n",
            "7805        none      none             white  clustered   woods  \n",
            "7820        none      none             white  clustered   woods  \n",
            "7910        none      none             white  clustered   woods  \n",
            "7941        none      none             white  clustered   woods  \n",
            "7981        none      none             white  clustered   woods  \n",
            "8095        none      none             white  clustered   woods  \n",
            "8114        none      none             white  clustered   woods  \n",
            "\n",
            "[36 rows x 23 columns]\n"
          ]
        }
      ]
    },
    {
      "cell_type": "markdown",
      "source": [
        "Existen valores de ring-number con \"none\" y a su vez son consistentes con el parecen ser consistentes con el hecho de que si de da tal caso, entonces en \"ring-type\" habrá tamb \"none\" porque no hay anillo."
      ],
      "metadata": {
        "id": "0GDd1Th6iIp4"
      }
    },
    {
      "cell_type": "code",
      "source": [
        "# Verificar si hay casos en los que \"gill-attachment\" no sea \"free\"\n",
        "non_free_gill_attachment = data[data['gill-attachment'] != 'free']\n",
        "\n",
        "# Mostrar los resultados\n",
        "print(non_free_gill_attachment)"
      ],
      "metadata": {
        "colab": {
          "base_uri": "https://localhost:8080/"
        },
        "id": "1n-gwVsEeTqR",
        "outputId": "9c0546f0-8af3-41e1-a26d-df1adcf5d6f7"
      },
      "execution_count": 6,
      "outputs": [
        {
          "output_type": "stream",
          "name": "stdout",
          "text": [
            "       class cap-shape cap-surface cap-color bruises  odor gill-attachment  \\\n",
            "6038  edible      bell      smooth     brown      no  none        attached   \n",
            "6040  edible    convex      smooth     brown      no  none        attached   \n",
            "6375  edible      bell      smooth     brown      no  none        attached   \n",
            "6424  edible    convex      smooth     brown      no  none        attached   \n",
            "6434  edible    convex      smooth     brown      no  none        attached   \n",
            "...      ...       ...         ...       ...     ...   ...             ...   \n",
            "8115  edible    convex      smooth     brown      no  none        attached   \n",
            "8119  edible   knobbed      smooth     brown      no  none        attached   \n",
            "8120  edible    convex      smooth     brown      no  none        attached   \n",
            "8121  edible      flat      smooth     brown      no  none        attached   \n",
            "8123  edible    convex      smooth     brown      no  none        attached   \n",
            "\n",
            "     gill-spacing gill-size gill-color  ... stalk-surface-below-ring  \\\n",
            "6038        close     broad     yellow  ...                   smooth   \n",
            "6040        close     broad     orange  ...                   smooth   \n",
            "6375        close     broad     orange  ...                   smooth   \n",
            "6424        close     broad      brown  ...                   smooth   \n",
            "6434        close     broad      brown  ...                   smooth   \n",
            "...           ...       ...        ...  ...                      ...   \n",
            "8115        close     broad     yellow  ...                   smooth   \n",
            "8119        close     broad     yellow  ...                   smooth   \n",
            "8120        close     broad     yellow  ...                   smooth   \n",
            "8121        close     broad      brown  ...                   smooth   \n",
            "8123        close     broad     yellow  ...                   smooth   \n",
            "\n",
            "     stalk-color-above-ring stalk-color-below-ring veil-type veil-color  \\\n",
            "6038                 orange                 orange   partial      brown   \n",
            "6040                 orange                 orange   partial      brown   \n",
            "6375                 orange                 orange   partial     orange   \n",
            "6424                 orange                 orange   partial      brown   \n",
            "6434                 orange                 orange   partial      brown   \n",
            "...                     ...                    ...       ...        ...   \n",
            "8115                 orange                 orange   partial     orange   \n",
            "8119                 orange                 orange   partial     orange   \n",
            "8120                 orange                 orange   partial      brown   \n",
            "8121                 orange                 orange   partial     orange   \n",
            "8123                 orange                 orange   partial     orange   \n",
            "\n",
            "     ring-number ring-type spore-print-color population habitat  \n",
            "6038         one   pendant             brown  clustered  leaves  \n",
            "6040         one   pendant             brown    several  leaves  \n",
            "6375         one   pendant            orange    several  leaves  \n",
            "6424         one   pendant            yellow  clustered  leaves  \n",
            "6434         one   pendant            orange    several  leaves  \n",
            "...          ...       ...               ...        ...     ...  \n",
            "8115         one   pendant            orange    several  leaves  \n",
            "8119         one   pendant              buff  clustered  leaves  \n",
            "8120         one   pendant              buff    several  leaves  \n",
            "8121         one   pendant              buff  clustered  leaves  \n",
            "8123         one   pendant            orange  clustered  leaves  \n",
            "\n",
            "[210 rows x 23 columns]\n"
          ]
        }
      ]
    },
    {
      "cell_type": "code",
      "source": [
        "# Convertir todas las categorías a minúsculas\n",
        "for col in data.select_dtypes(include=['object']).columns:\n",
        "    data[col] = data[col].str.lower()"
      ],
      "metadata": {
        "id": "sFUqs48VyejP"
      },
      "execution_count": null,
      "outputs": []
    },
    {
      "cell_type": "code",
      "source": [
        "# Codificación de Variables Categóricas (One-Hot Encoding)\n",
        "data_encoded = pd.get_dummies(data, columns=data.select_dtypes(include=['object']).columns)"
      ],
      "metadata": {
        "id": "itpO87D7vUlf",
        "colab": {
          "base_uri": "https://localhost:8080/",
          "height": 159
        },
        "outputId": "7fc5c716-4303-4843-c568-a88a22405bc0"
      },
      "execution_count": 2,
      "outputs": [
        {
          "output_type": "error",
          "ename": "NameError",
          "evalue": "name 'pd' is not defined",
          "traceback": [
            "\u001b[0;31m---------------------------------------------------------------------------\u001b[0m",
            "\u001b[0;31mNameError\u001b[0m                                 Traceback (most recent call last)",
            "\u001b[0;32m<ipython-input-2-fbff40178812>\u001b[0m in \u001b[0;36m<cell line: 2>\u001b[0;34m()\u001b[0m\n\u001b[1;32m      1\u001b[0m \u001b[0;31m# Codificación de Variables Categóricas (One-Hot Encoding)\u001b[0m\u001b[0;34m\u001b[0m\u001b[0;34m\u001b[0m\u001b[0m\n\u001b[0;32m----> 2\u001b[0;31m \u001b[0mdata_encoded\u001b[0m \u001b[0;34m=\u001b[0m \u001b[0mpd\u001b[0m\u001b[0;34m.\u001b[0m\u001b[0mget_dummies\u001b[0m\u001b[0;34m(\u001b[0m\u001b[0mdata\u001b[0m\u001b[0;34m,\u001b[0m \u001b[0mcolumns\u001b[0m\u001b[0;34m=\u001b[0m\u001b[0mdata\u001b[0m\u001b[0;34m.\u001b[0m\u001b[0mselect_dtypes\u001b[0m\u001b[0;34m(\u001b[0m\u001b[0minclude\u001b[0m\u001b[0;34m=\u001b[0m\u001b[0;34m[\u001b[0m\u001b[0;34m'object'\u001b[0m\u001b[0;34m]\u001b[0m\u001b[0;34m)\u001b[0m\u001b[0;34m.\u001b[0m\u001b[0mcolumns\u001b[0m\u001b[0;34m)\u001b[0m\u001b[0;34m\u001b[0m\u001b[0;34m\u001b[0m\u001b[0m\n\u001b[0m",
            "\u001b[0;31mNameError\u001b[0m: name 'pd' is not defined"
          ]
        }
      ]
    },
    {
      "cell_type": "code",
      "source": [
        "# Separar características y etiqueta\n",
        "X = data_encoded.drop(columns=['class_edible', 'class_poisson'])\n",
        "y = data_encoded[['class_edible', 'class_poisson']]"
      ],
      "metadata": {
        "id": "V7iQv30nvYTb"
      },
      "execution_count": null,
      "outputs": []
    },
    {
      "cell_type": "code",
      "source": [
        "# Mostrar la estructura del dataset preprocesado\n",
        "print(\"Dataset preprocesado:\")\n",
        "print(X.head())\n",
        "print(y.head())"
      ],
      "metadata": {
        "colab": {
          "base_uri": "https://localhost:8080/"
        },
        "id": "nmgJ1wpCvepE",
        "outputId": "d251ba9e-e4f6-447f-90c5-03bb8f2eb9dd"
      },
      "execution_count": null,
      "outputs": [
        {
          "output_type": "stream",
          "name": "stdout",
          "text": [
            "Dataset preprocesado:\n",
            "   cap-shape_bell  cap-shape_conical  cap-shape_convex  cap-shape_flat  \\\n",
            "0           False              False              True           False   \n",
            "1           False              False              True           False   \n",
            "2            True              False             False           False   \n",
            "3           False              False              True           False   \n",
            "4           False              False              True           False   \n",
            "\n",
            "   cap-shape_knobbed  cap-shape_sunken  cap-surface_fibrous  \\\n",
            "0              False             False                False   \n",
            "1              False             False                False   \n",
            "2              False             False                False   \n",
            "3              False             False                False   \n",
            "4              False             False                False   \n",
            "\n",
            "   cap-surface_grooves  cap-surface_scaly  cap-surface_smooth  ...  \\\n",
            "0                False              False                True  ...   \n",
            "1                False              False                True  ...   \n",
            "2                False              False                True  ...   \n",
            "3                False               True               False  ...   \n",
            "4                False              False                True  ...   \n",
            "\n",
            "   population_scattered  population_several  population_solitary  \\\n",
            "0                  True               False                False   \n",
            "1                 False               False                False   \n",
            "2                 False               False                False   \n",
            "3                  True               False                False   \n",
            "4                 False               False                False   \n",
            "\n",
            "   habitat_grasses  habitat_leaves  habitat_meadows  habitat_paths  \\\n",
            "0            False           False            False          False   \n",
            "1             True           False            False          False   \n",
            "2            False           False             True          False   \n",
            "3            False           False            False          False   \n",
            "4             True           False            False          False   \n",
            "\n",
            "   habitat_urban  habitat_waste  habitat_woods  \n",
            "0           True          False          False  \n",
            "1          False          False          False  \n",
            "2          False          False          False  \n",
            "3           True          False          False  \n",
            "4          False          False          False  \n",
            "\n",
            "[5 rows x 117 columns]\n",
            "   class_edible  class_poisson\n",
            "0         False           True\n",
            "1          True          False\n",
            "2          True          False\n",
            "3         False           True\n",
            "4          True          False\n"
          ]
        }
      ]
    }
  ],
  "metadata": {
    "kernelspec": {
      "display_name": "Python 3.7.5 64-bit",
      "language": "python",
      "name": "python37564bitdd07daf68109432f8a93b5a5dcf3ce2d"
    },
    "language_info": {
      "codemirror_mode": {
        "name": "ipython",
        "version": 3
      },
      "file_extension": ".py",
      "mimetype": "text/x-python",
      "name": "python",
      "nbconvert_exporter": "python",
      "pygments_lexer": "ipython3",
      "version": "3.7.5"
    },
    "colab": {
      "provenance": []
    }
  },
  "nbformat": 4,
  "nbformat_minor": 0
}